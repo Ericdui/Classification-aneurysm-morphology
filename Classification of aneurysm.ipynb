{
 "cells": [
  {
   "cell_type": "markdown",
   "metadata": {},
   "source": [
    "# Load points "
   ]
  },
  {
   "cell_type": "code",
   "execution_count": null,
   "metadata": {
    "collapsed": true
   },
   "outputs": [],
   "source": [
    "import matplotlib.pyplot as plt\n",
    "from mpl_toolkits.mplot3d import Axes3D\n",
    "import time\n",
    "from numpy import *\n",
    "from sklearn.utils import resample"
   ]
  },
  {
   "cell_type": "code",
   "execution_count": null,
   "metadata": {
    "collapsed": true
   },
   "outputs": [],
   "source": [
    "def readstl(name): \n",
    "    STLfile = name\n",
    "    f=open(STLfile,'r')\n",
    "\n",
    "    x=[]\n",
    "    y=[]\n",
    "    z=[]\n",
    "\n",
    "    for line in f:\n",
    "        strarray=line.split()\n",
    "        if strarray[0]=='vertex':\n",
    "            x=append(x,double(strarray[1]))\n",
    "            y=append(y,double(strarray[2]))\n",
    "            z=append(z,double(strarray[3]))\n",
    "    \n",
    "    \n",
    "    # calculate middle point in every triangle\n",
    "    xnew = []\n",
    "    ynew = []\n",
    "    znew = []\n",
    "\n",
    "    for i in range(0,len(x),3):\n",
    "        xnew.append(sum(x[i:i+3])/3)\n",
    "        ynew.append(sum(y[i:i+3])/3)\n",
    "        znew.append(sum(z[i:i+3])/3)\n",
    "    \n",
    "    print('# of points in %s:' %name, len(xnew))\n",
    "    \n",
    "    point = []\n",
    "    for i in range(len(xnew)):\n",
    "        point.append([xnew[i],ynew[i],znew[i]])\n",
    "        \n",
    "    return point"
   ]
  },
  {
   "cell_type": "code",
   "execution_count": null,
   "metadata": {
    "collapsed": true
   },
   "outputs": [],
   "source": [
    "# draw the 3D graph to evaluate the resample points\n",
    "\n",
    "def draw(points):\n",
    "    \n",
    "    fig = plt.figure()\n",
    "    ax = fig.add_subplot(111, projection='3d')\n",
    "    x,y,z = [],[],[]\n",
    "    for point in points:\n",
    "        x.append(point[0])\n",
    "        y.append(point[1])\n",
    "        z.append(point[2])\n",
    "        \n",
    "    ax.scatter(x, y, z, '.')\n",
    "\n",
    "    ax.set_xlabel('X Label')\n",
    "    ax.set_ylabel('Y Label')\n",
    "    ax.set_zlabel('Z Label')\n",
    "\n",
    "    plt.show()"
   ]
  },
  {
   "cell_type": "markdown",
   "metadata": {},
   "source": [
    "# Calculate shape bins"
   ]
  },
  {
   "cell_type": "code",
   "execution_count": null,
   "metadata": {
    "collapsed": true
   },
   "outputs": [],
   "source": [
    "# shape bins with every points\n",
    "\n",
    "import numpy as np\n",
    "def shape_bins(points):\n",
    "    \n",
    "    print('Calculating bins')\n",
    "    \n",
    "    N = len(points)\n",
    "    bins_all = []\n",
    "    theta_Block = 12\n",
    "    phi_Block = 6\n",
    "    dis_Block = 5\n",
    "    for point_o in points[:]:\n",
    "        distances = []\n",
    "        theta = []\n",
    "        phi = []\n",
    "        for point in points[:]:\n",
    "            distance = np.sqrt((point_o[0] - point[0]) ** 2 + (point_o[1] - point[1]) ** 2 + \\\n",
    "                               (point_o[2] - point[2]) ** 2 )\n",
    "            if distance != 0:\n",
    "                distances.append(distance)\n",
    "                part_distance = np.sqrt((point[0] - point_o[0]) ** 2 + (point[1] - point_o[1]) ** 2)\n",
    "                \n",
    "                angl = np.arccos(np.abs(point[0] - point_o[0]) / part_distance)\n",
    "                \n",
    "                if point[1] - point_o[1] < 0 and point[0] - point_o[0] < 0:\n",
    "                    angl = angl + np.pi\n",
    "                elif point[1] - point_o[1] < 0 and point[0] - point_o[0] > 0:\n",
    "                    angl = np.pi * 2 - angl\n",
    "                elif point[1] - point_o[1] > 0 and point[0] - point_o[0] < 0:\n",
    "                    angl = angl + np.pi / 2\n",
    "                theta.append(angl)  \n",
    "                \n",
    "                phiangl = np.arccos(part_distance / distance)\n",
    "                \n",
    "                if point[2] - point_o[2] < 0:\n",
    "                    phiangl = -1 * angl\n",
    "                \n",
    "                phi.append(phiangl)  \n",
    "                \n",
    "        mean_dist = np.mean(distances)\n",
    "        distances = distances / mean_dist\n",
    "\n",
    "        block_lens = 0.5\n",
    "        distances_log = np.log(distances / block_lens)\n",
    "\n",
    "        for x in range(len(distances_log)):\n",
    "            if distances_log[x] <= 0:\n",
    "                distances_log[x] = 0\n",
    "            elif distances_log[x] <= 1:\n",
    "                distances_log[x] = 1\n",
    "            elif distances_log[x] <= 2:\n",
    "                distances_log[x] = 2\n",
    "            elif distances_log[x] <= 3:\n",
    "                distances_log[x] = 3\n",
    "            elif distances_log[x] <= 4:\n",
    "                distances_log[x] = 4\n",
    "        \n",
    "        for x in range(len(phi)):\n",
    "            if -np.pi/2 <= phi[x] <= -np.pi/3:\n",
    "                phi[x] = 0\n",
    "            elif -np.pi/3 < phi[x] <= -np.pi/6:\n",
    "                phi[x] = 1\n",
    "            elif -np.pi/6 < phi[x] <= 0:\n",
    "                phi[x] = 2\n",
    "            elif 0 < phi[x] <= np.pi/6:\n",
    "                phi[x] = 3\n",
    "            elif np.pi/6 < phi[x] <= np.pi/3:\n",
    "                phi[x] = 4\n",
    "            elif np.pi/3 < phi[x] <= np.pi/2:\n",
    "                phi[x] = 5\n",
    "                \n",
    "        for x in range(len(theta)):\n",
    "            if 0 < theta[x] <= np.pi/6:\n",
    "                theta[x] = 0\n",
    "            elif np.pi/6 < theta[x] <= np.pi/3:\n",
    "                theta[x] = 1\n",
    "            elif np.pi/3 < theta[x] <= np.pi/2:\n",
    "                theta[x] = 2\n",
    "            elif np.pi/2 < theta[x] <= 2*np.pi/3:\n",
    "                theta[x] = 3\n",
    "            elif 2*np.pi/3 < theta[x] <= 5*np.pi/6:\n",
    "                theta[x] = 4\n",
    "            elif 5*np.pi/6 < theta[x] <= np.pi:\n",
    "                theta[x] = 5\n",
    "            elif np.pi < theta[x] <= 7*np.pi/6:\n",
    "                theta[x] = 6\n",
    "            elif 7*np.pi/6 < theta[x] <= 4*np.pi/3:\n",
    "                theta[x] = 7\n",
    "            elif 4*np.pi/3 < theta[x] <= 3*np.pi/2:\n",
    "                theta[x] = 8\n",
    "            elif 3*np.pi/2 < theta[x] <= 5*np.pi/3:\n",
    "                theta[x] = 9\n",
    "            elif 5*np.pi/3 < theta[x] <= 11*np.pi/6:\n",
    "                theta[x] = 10\n",
    "            elif 11*np.pi/6 < theta[x] <= 2*np.pi:\n",
    "                theta[x] = 11\n",
    "\n",
    "        bins = np.zeros((dis_Block, theta_Block, phi_Block))\n",
    "        for x in range(len(distances_log)):\n",
    "            bins[int(distances_log[x]), int(theta[x]), int(phi[x])] =  \\\n",
    "            bins[int(distances_log[x]), int(theta[x]), int(phi[x])] + 1\n",
    "            \n",
    "        bins = np.reshape(bins,[phi_Block*theta_Block*dis_Block])\n",
    "        \n",
    "        bins /= len(points)\n",
    "        \n",
    "        bins_all.append(bins)\n",
    "    return bins_all"
   ]
  },
  {
   "cell_type": "code",
   "execution_count": null,
   "metadata": {
    "collapsed": true
   },
   "outputs": [],
   "source": [
    "# shape bins with centroid\n",
    "\n",
    "def shape_centrobins(points):\n",
    "    \n",
    "    print('Calculating centroid bins')\n",
    "    \n",
    "    N = len(points)\n",
    "    bins_all = []\n",
    "    theta_Block = 12\n",
    "    phi_Block = 6\n",
    "    dis_Block = 5\n",
    "    point_o = np.mean(points, axis = 0)\n",
    "    \n",
    "    distances = []\n",
    "    theta = []\n",
    "    phi = []\n",
    "    for point in points[:]:\n",
    "        distance = np.sqrt((point_o[0] - point[0]) ** 2 + (point_o[1] - point[1]) ** 2 + \\\n",
    "                           (point_o[2] - point[2]) ** 2 )\n",
    "        if distance != 0:\n",
    "            distances.append(distance)\n",
    "            part_distance = np.sqrt((point[0] - point_o[0]) ** 2 + (point[1] - point_o[1]) ** 2)\n",
    "\n",
    "            angl = np.arccos(np.abs(point[0] - point_o[0]) / part_distance)\n",
    "\n",
    "            if point[1] - point_o[1] < 0 and point[0] - point_o[0] < 0:\n",
    "                angl = angl + np.pi\n",
    "            elif point[1] - point_o[1] < 0 and point[0] - point_o[0] > 0:\n",
    "                angl = np.pi * 2 - angl\n",
    "            elif point[1] - point_o[1] > 0 and point[0] - point_o[0] < 0:\n",
    "                angl = angl + np.pi / 2\n",
    "            theta.append(angl)  \n",
    "\n",
    "            phiangl = np.arccos(part_distance / distance)\n",
    "\n",
    "            if point[2] - point_o[2] < 0:\n",
    "                phiangl = -1 * angl\n",
    "\n",
    "            phi.append(phiangl)  \n",
    "\n",
    "    mean_dist = np.mean(distances)\n",
    "    distances = distances / mean_dist\n",
    "\n",
    "    block_lens = 0.5\n",
    "    distances_log = np.log(distances / block_lens)\n",
    "\n",
    "    for x in range(len(distances_log)):\n",
    "        if distances_log[x] <= 0:\n",
    "            distances_log[x] = 0\n",
    "        elif distances_log[x] <= 1:\n",
    "            distances_log[x] = 1\n",
    "        elif distances_log[x] <= 2:\n",
    "            distances_log[x] = 2\n",
    "        elif distances_log[x] <= 3:\n",
    "            distances_log[x] = 3\n",
    "        elif distances_log[x] <= 4:\n",
    "            distances_log[x] = 4\n",
    "\n",
    "    for x in range(len(phi)):\n",
    "        if -np.pi/2 <= phi[x] <= -np.pi/3:\n",
    "            phi[x] = 0\n",
    "        elif -np.pi/3 < phi[x] <= -np.pi/6:\n",
    "            phi[x] = 1\n",
    "        elif -np.pi/6 < phi[x] <= 0:\n",
    "            phi[x] = 2\n",
    "        elif 0 < phi[x] <= np.pi/6:\n",
    "            phi[x] = 3\n",
    "        elif np.pi/6 < phi[x] <= np.pi/3:\n",
    "            phi[x] = 4\n",
    "        elif np.pi/3 < phi[x] <= np.pi/2:\n",
    "            phi[x] = 5\n",
    "\n",
    "    for x in range(len(theta)):\n",
    "        if 0 < theta[x] <= np.pi/6:\n",
    "            theta[x] = 0\n",
    "        elif np.pi/6 < theta[x] <= np.pi/3:\n",
    "            theta[x] = 1\n",
    "        elif np.pi/3 < theta[x] <= np.pi/2:\n",
    "            theta[x] = 2\n",
    "        elif np.pi/2 < theta[x] <= 2*np.pi/3:\n",
    "            theta[x] = 3\n",
    "        elif 2*np.pi/3 < theta[x] <= 5*np.pi/6:\n",
    "            theta[x] = 4\n",
    "        elif 5*np.pi/6 < theta[x] <= np.pi:\n",
    "            theta[x] = 5\n",
    "        elif np.pi < theta[x] <= 7*np.pi/6:\n",
    "            theta[x] = 6\n",
    "        elif 7*np.pi/6 < theta[x] <= 4*np.pi/3:\n",
    "            theta[x] = 7\n",
    "        elif 4*np.pi/3 < theta[x] <= 3*np.pi/2:\n",
    "            theta[x] = 8\n",
    "        elif 3*np.pi/2 < theta[x] <= 5*np.pi/3:\n",
    "            theta[x] = 9\n",
    "        elif 5*np.pi/3 < theta[x] <= 11*np.pi/6:\n",
    "            theta[x] = 10\n",
    "        elif 11*np.pi/6 < theta[x] <= 2*np.pi:\n",
    "            theta[x] = 11\n",
    "\n",
    "    bins = np.zeros((dis_Block, theta_Block, phi_Block))\n",
    "    for x in range(len(distances_log)):\n",
    "        bins[int(distances_log[x]), int(theta[x]), int(phi[x])] =  \\\n",
    "        bins[int(distances_log[x]), int(theta[x]), int(phi[x])] + 1\n",
    "\n",
    "    bins = np.reshape(bins,[phi_Block*theta_Block*dis_Block])\n",
    "    bins_all.append(bins)\n",
    "    return bins_all"
   ]
  },
  {
   "cell_type": "markdown",
   "metadata": {},
   "source": [
    "# calculate Cost Matrix"
   ]
  },
  {
   "cell_type": "code",
   "execution_count": null,
   "metadata": {
    "collapsed": true
   },
   "outputs": [],
   "source": [
    "def cost_matrix(bins_A,bins_B):\n",
    "    print('Calculating cost matrix')\n",
    "    \n",
    "    row = 0\n",
    "    col = 0\n",
    "    cost = np.zeros((len(bins_A), len(bins_B)))\n",
    "    for bin_A in bins_A:\n",
    "        col = 0\n",
    "        for bin_B in bins_B:\n",
    "            cost[row, col] = 0.5 * np.sum(((bin_A - bin_B) ** 2) / (bin_A + bin_B + 0.00000001))\n",
    "            col = col + 1\n",
    "        row = row + 1\n",
    "    return cost"
   ]
  },
  {
   "cell_type": "markdown",
   "metadata": {},
   "source": [
    "# Munkres to find minimum"
   ]
  },
  {
   "cell_type": "markdown",
   "metadata": {},
   "source": [
    "O(N^3) time complexity.\n",
    "\n",
    "When the # of points increse, it will cost large amount of time.\n",
    "\n",
    "We will use Soft Assignment method instead."
   ]
  },
  {
   "cell_type": "code",
   "execution_count": null,
   "metadata": {
    "collapsed": true
   },
   "outputs": [],
   "source": [
    "import copy\n",
    "from munkres import Munkres"
   ]
  },
  {
   "cell_type": "code",
   "execution_count": null,
   "metadata": {
    "collapsed": true
   },
   "outputs": [],
   "source": [
    "def cal_munkres(cost_matrix):\n",
    "    print('Calculating munkres')\n",
    "    matrix = copy.deepcopy(cost_matrix)\n",
    "    m = Munkres()\n",
    "    indexes = m.compute(matrix)\n",
    "    total = 0\n",
    "    \n",
    "    for row, column in indexes:\n",
    "        value = cost_matrix[row][column]\n",
    "        total += value\n",
    "\n",
    "    print ('minimum cost =%d' % total)\n",
    "    return total"
   ]
  },
  {
   "cell_type": "markdown",
   "metadata": {},
   "source": [
    "# Soft Assignment "
   ]
  },
  {
   "cell_type": "code",
   "execution_count": null,
   "metadata": {
    "collapsed": true
   },
   "outputs": [],
   "source": [
    "import copy"
   ]
  },
  {
   "cell_type": "code",
   "execution_count": null,
   "metadata": {
    "collapsed": true
   },
   "outputs": [],
   "source": [
    "def soft_assign(cost_matrix):\n",
    "    print('Calculating soft assignment')\n",
    "    total = 0\n",
    "    matrix = copy.deepcopy(cost_matrix)\n",
    "    \n",
    "    for i in range(len(cost_matrix)):\n",
    "        candidate = []\n",
    "        \n",
    "        min_C = np.min(cost_matrix[i])\n",
    "        max_C = np.max(cost_matrix[i])\n",
    "        sigma_i = np.sqrt(np.sum((matrix[i] - min_C)**2))\n",
    "        epsilon_i = sigma_i * np.abs(max_C - min_C)\n",
    "        \n",
    "        for j in range(len(cost_matrix[0])):\n",
    "            if cost_matrix[i][j] <= min_C + epsilon_i:\n",
    "                candidate.append(cost_matrix[i][j])       \n",
    "        k_i = len(candidate)\n",
    "    \n",
    "        for k in range(k_i):\n",
    "            weight_i = (min_C + epsilon_i - candidate[k])/(k_i * epsilon_i)\n",
    "            total += weight_i * candidate[k]\n",
    "    total /= len(cost_matrix)\n",
    "    print('minimum cost =%d' % total)\n",
    "    return total\n",
    "            "
   ]
  },
  {
   "cell_type": "markdown",
   "metadata": {
    "collapsed": true
   },
   "source": [
    "# Main function using Hungarian method"
   ]
  },
  {
   "cell_type": "markdown",
   "metadata": {
    "collapsed": true
   },
   "source": [
    "Because of the time complexity of Munkres, \n",
    "\n",
    "we evaluate our results in the main function with SA"
   ]
  },
  {
   "cell_type": "code",
   "execution_count": null,
   "metadata": {
    "collapsed": true,
    "scrolled": true
   },
   "outputs": [],
   "source": [
    "# compare the different class\n",
    "# find the dissimilarity between the two classes\n",
    "\n",
    "result = []\n",
    "\n",
    "for i in range(1,5):  \n",
    "    for j in range(1,5):\n",
    "        \n",
    "        point1 = readstl('S%d.stl'%i)\n",
    "        point2 = readstl('G%d.stl'%j)\n",
    "        \n",
    "        if len(point1) > 2000:\n",
    "            point1 = resample(point1, replace=False, n_samples=2000,random_state=123)\n",
    "        elif len(point1) < 2000:\n",
    "            point1 = resample(point1, replace=True, n_samples=2000,random_state=123)\n",
    "        \n",
    "        if len(point2) > 2000:\n",
    "            point2 = resample(point2, replace=False, n_samples=2000,random_state=123)\n",
    "        elif len(point2) < 2000:\n",
    "            point2 = resample(point2, replace=True, n_samples=2000,random_state=123)\n",
    "        \n",
    "        print('resample points to ',len(point1))\n",
    "\n",
    "        bin1 = shape_bins(point1)\n",
    "        bin2 = shape_bins(point2)\n",
    "\n",
    "        cost = cost_matrix(bin1,bin2)\n",
    "\n",
    "        total = cal_munkres(cost)\n",
    "        \n",
    "        result.append(total)\n",
    "\n",
    "        print('---------------------')\n"
   ]
  },
  {
   "cell_type": "code",
   "execution_count": null,
   "metadata": {
    "collapsed": true
   },
   "outputs": [],
   "source": [
    "print(result)"
   ]
  },
  {
   "cell_type": "code",
   "execution_count": null,
   "metadata": {
    "collapsed": true
   },
   "outputs": [],
   "source": [
    "plt.plot(result)\n",
    "plt.ylabel('minimum distance')\n",
    "plt.ylim(0,max(result)*1.5)\n",
    " \n",
    "plt.show()\n",
    "print(np.mean(result))"
   ]
  },
  {
   "cell_type": "code",
   "execution_count": null,
   "metadata": {
    "collapsed": true,
    "scrolled": true
   },
   "outputs": [],
   "source": [
    "result2 = []\n",
    "p = [1,2,3,4,5]\n",
    "\n",
    "for i in range(1,6):  \n",
    "    cur = []  \n",
    "    q = p[:i-1] + p[i:]\n",
    "    for j in q:\n",
    "        \n",
    "        point1 = readstl('G%d.stl'%i)[::80]\n",
    "        point2 = readstl('G%d.stl'%j)[::80]\n",
    "\n",
    "        if len(point1) > len(point2):\n",
    "            point2 = resample(point2, replace=True, n_samples=len(point1),random_state=123)\n",
    "        elif len(point1) < len(point2):\n",
    "            point1 = resample(point1, replace=True, n_samples=len(point2),random_state=123)\n",
    "\n",
    "        print('resample points to ',len(point1))\n",
    "\n",
    "\n",
    "        bin1 = shape_bins(point1)\n",
    "        bin2 = shape_bins(point2)\n",
    "\n",
    "        cost = cost_matrix(bin1,bin2)\n",
    "\n",
    "        total = cal_munkres(cost)\n",
    "        \n",
    "        cur.append(total)\n",
    "\n",
    "        print('---------------------')\n",
    "    \n",
    "    result2.append(np.mean(cur))"
   ]
  },
  {
   "cell_type": "markdown",
   "metadata": {
    "collapsed": true
   },
   "source": [
    "# Main function using SA"
   ]
  },
  {
   "cell_type": "markdown",
   "metadata": {},
   "source": [
    "## 1. using centriod"
   ]
  },
  {
   "cell_type": "markdown",
   "metadata": {},
   "source": [
    "In this way, we only calculate the centrod point and its shape context.\n",
    "\n",
    "Hence when we calculate cast_matrix, it will be 1x1 matrix and no need to using SA"
   ]
  },
  {
   "cell_type": "code",
   "execution_count": null,
   "metadata": {
    "scrolled": true
   },
   "outputs": [],
   "source": [
    "# Stable TO Growing\n",
    "\n",
    "result = []\n",
    "for i in range(1,6):\n",
    "    cur = []\n",
    "    for j in range(1,6):\n",
    "        \n",
    "        point1 = readstl('S%d.stl'%i)\n",
    "        point2 = readstl('G%d.stl'%j)\n",
    "        \n",
    "        if len(point1) >= len(point2):\n",
    "            n = len(point1)//len(point2)\n",
    "            point1 = point1[::n]\n",
    "        else:\n",
    "            n = len(point2)//len(point1)\n",
    "            point2 = point2[::n]\n",
    "        \n",
    "        bin1 = shape_centrobins(point1)\n",
    "        bin2 = shape_centrobins(point2)\n",
    "        \n",
    "        cost = cost_matrix(bin1,bin2)\n",
    "        print(cost[0][0])\n",
    "        result.append(cost[0][0])\n",
    "        cur.append(cost[0][0])\n",
    "\n",
    "        print('---------------------')\n",
    "        \n",
    "    print('S%d cost with each Growing class:'%i,cur)\n",
    "    print('S%d mean cost with each Growing class:'%i,np.mean(cur))\n",
    "    plt.figure()\n",
    "    plt.plot(cur,label = 'cost')\n",
    "    y=[np.mean(cur)]*5\n",
    "    plt.plot(y,'--',label = 'mean cost')\n",
    "    plt.ylabel('similarity')\n",
    "    plt.ylim(min(cur)*0.9,max(cur)*1.1)\n",
    "    plt.legend()\n",
    "    plt.show()\n",
    "        \n"
   ]
  },
  {
   "cell_type": "code",
   "execution_count": null,
   "metadata": {},
   "outputs": [],
   "source": [
    "print('Stable mean cost with Growing class:',np.mean(result))\n",
    "plt.figure()\n",
    "plt.plot(result,label = 'cost')\n",
    "y=[np.mean(result)]*25\n",
    "plt.plot(y,'--',label = 'mean cost')\n",
    "plt.ylabel('similarity')\n",
    "plt.ylim(min(result)*0.9,max(result)*1.25)\n",
    "plt.legend()\n",
    "plt.show()"
   ]
  },
  {
   "cell_type": "code",
   "execution_count": null,
   "metadata": {
    "scrolled": true
   },
   "outputs": [],
   "source": [
    "# Growing To Stable\n",
    "\n",
    "result = []\n",
    "for i in range(1,6):\n",
    "    cur = []\n",
    "    for j in range(1,6):\n",
    "        \n",
    "        point1 = readstl('G%d.stl'%i)\n",
    "        point2 = readstl('S%d.stl'%j)\n",
    "        \n",
    "        if len(point1) >= len(point2):\n",
    "            n = len(point1)//len(point2)\n",
    "            point1 = point1[::n]\n",
    "        else:\n",
    "            n = len(point2)//len(point1)\n",
    "            point2 = point2[::n]\n",
    "        \n",
    "        bin1 = shape_centrobins(point1)\n",
    "        bin2 = shape_centrobins(point2)\n",
    "        \n",
    "        cost = cost_matrix(bin1,bin2)\n",
    "        print(cost[0][0])\n",
    "        result.append(cost[0][0])\n",
    "        cur.append(cost[0][0])\n",
    "\n",
    "        print('---------------------')\n",
    "        \n",
    "    print('G%d cost with each Stable class:'%i,cur)\n",
    "    print('G%d mean cost with each Stable class:'%i,np.mean(cur))\n",
    "    plt.figure()\n",
    "    plt.plot(cur,label = 'cost')\n",
    "    y=[np.mean(cur)]*5\n",
    "    plt.plot(y,'--',label = 'mean cost')\n",
    "    plt.ylabel('similarity')\n",
    "    plt.ylim(min(cur)*0.9,max(cur)*1.25)\n",
    "    plt.legend()\n",
    "    plt.show()"
   ]
  },
  {
   "cell_type": "code",
   "execution_count": null,
   "metadata": {},
   "outputs": [],
   "source": [
    "print('Growing mean cost with Stable class:',np.mean(result))\n",
    "plt.figure()\n",
    "plt.plot(result,label = 'cost')\n",
    "y=[np.mean(result)]*25\n",
    "plt.plot(y,'--',label = 'mean cost')\n",
    "plt.ylabel('similarity')\n",
    "plt.ylim(min(result)*0.9,max(result)*1.25)\n",
    "plt.legend()\n",
    "plt.show()"
   ]
  },
  {
   "cell_type": "code",
   "execution_count": null,
   "metadata": {
    "scrolled": true
   },
   "outputs": [],
   "source": [
    "# Growing To Growing\n",
    "cur = []\n",
    "for i in range(1,6):\n",
    "    for j in range(i+1,6):\n",
    "        \n",
    "        point1 = readstl('G%d.stl'%i)\n",
    "        point2 = readstl('G%d.stl'%j)\n",
    "        \n",
    "        if len(point1) >= len(point2):\n",
    "            n = len(point1)//len(point2)\n",
    "            point1 = point1[::n]\n",
    "        else:\n",
    "            n = len(point2)//len(point1)\n",
    "            point2 = point2[::n]\n",
    "        \n",
    "        bin1 = shape_centrobins(point1)\n",
    "        bin2 = shape_centrobins(point2)\n",
    "        \n",
    "        cost = cost_matrix(bin1,bin2)\n",
    "        print(cost[0][0])\n",
    "        cur.append(cost[0][0])\n",
    "\n",
    "        print('---------------------')\n",
    "        \n",
    "print('Growing cost with each Growing class:',cur)\n",
    "print('Growing mean cost with each Growing class:',np.mean(cur))\n",
    "plt.figure()\n",
    "plt.plot(cur,label = 'cost')\n",
    "y=[np.mean(cur)]*len(cur)\n",
    "plt.plot(y,'--',label = 'mean cost')\n",
    "plt.ylabel('similarity')\n",
    "plt.ylim(min(cur)*0.9,max(cur)*1.25)\n",
    "plt.legend()\n",
    "plt.show()"
   ]
  },
  {
   "cell_type": "code",
   "execution_count": null,
   "metadata": {
    "scrolled": true
   },
   "outputs": [],
   "source": [
    "# Stable To Stable\n",
    "cur = []\n",
    "for i in range(1,6):\n",
    "    for j in range(i+1,6):\n",
    "        \n",
    "        point1 = readstl('S%d.stl'%i)\n",
    "        point2 = readstl('S%d.stl'%j)\n",
    "        \n",
    "        if len(point1) >= len(point2):\n",
    "            n = len(point1)//len(point2)\n",
    "            point1 = point1[::n]\n",
    "        else:\n",
    "            n = len(point2)//len(point1)\n",
    "            point2 = point2[::n]\n",
    "        \n",
    "        bin1 = shape_centrobins(point1)\n",
    "        bin2 = shape_centrobins(point2)\n",
    "        \n",
    "        cost = cost_matrix(bin1,bin2)\n",
    "        print(cost[0][0])\n",
    "        cur.append(cost[0][0])\n",
    "\n",
    "        print('---------------------')\n",
    "        \n",
    "print('Stabel cost with each Stabel class:',cur)\n",
    "print('Stabel mean cost with each Stabel class:',np.mean(cur))\n",
    "plt.figure()\n",
    "plt.plot(cur,label = 'cost')\n",
    "y=[np.mean(cur)]*len(cur)\n",
    "plt.plot(y,'--',label = 'mean cost')\n",
    "plt.ylabel('similarity')\n",
    "plt.ylim(min(cur)*0.9,max(cur)*1.25)\n",
    "plt.legend()\n",
    "plt.show()"
   ]
  },
  {
   "cell_type": "code",
   "execution_count": null,
   "metadata": {},
   "outputs": [],
   "source": [
    "# plot each cost with the results we get in the former part\n",
    "\n",
    "plt.figure()\n",
    "plt.plot(a,label = 'Stabel mean cost with each Stabel class')\n",
    "plt.plot(b,label = 'Growing mean cost with each Growing class')\n",
    "plt.plot(c,label = 'Growing mean cost with Stable class')\n",
    "plt.plot(d,label = 'Stable mean cost with Growing class')\n",
    "plt.ylabel('mean cost')\n",
    "plt.legend()\n",
    "plt.show()"
   ]
  },
  {
   "cell_type": "markdown",
   "metadata": {},
   "source": [
    "## 2. using every points"
   ]
  },
  {
   "cell_type": "code",
   "execution_count": null,
   "metadata": {
    "scrolled": true
   },
   "outputs": [],
   "source": [
    "result = []\n",
    "\n",
    "for i in range(1,5):  \n",
    "    for j in range(1,5):\n",
    "        \n",
    "        point1 = readstl('S%d.stl'%i)\n",
    "        point2 = readstl('G%d.stl'%j)\n",
    "        \n",
    "        if len(point1) >= len(point2):\n",
    "            n = len(point1)//len(point2)\n",
    "            point1 = point1[::n]\n",
    "        else:\n",
    "            n = len(point2)//len(point1)\n",
    "            point2 = point2[::n]\n",
    "        \n",
    "        print('resample points1 to',len(point1))\n",
    "        print('resample points2 to',len(point2))\n",
    "        \n",
    "        bin1 = shape_bins(point1)\n",
    "        bin2 = shape_bins(point2)\n",
    "        \n",
    "        cost = cost_matrix(bin1,bin2)\n",
    "\n",
    "        total = soft_assign(cost)\n",
    "        \n",
    "        result.append(total)\n",
    "\n",
    "        print('---------------------')"
   ]
  },
  {
   "cell_type": "code",
   "execution_count": null,
   "metadata": {
    "collapsed": true
   },
   "outputs": [],
   "source": [
    "print(result)\n",
    "plt.plot(result)\n",
    "plt.ylabel('minimum distance')\n",
    "plt.ylim(0,max(result)*1.5)\n",
    "plt.show()\n",
    "print(np.mean(result))"
   ]
  },
  {
   "cell_type": "code",
   "execution_count": null,
   "metadata": {
    "scrolled": true
   },
   "outputs": [],
   "source": [
    "result2 = []\n",
    "\n",
    "\n",
    "for i in range(1,5):\n",
    "    \n",
    "    for j in range(i+1,5):\n",
    "        \n",
    "        point1 = readstl('G%d.stl'%i)\n",
    "        point2 = readstl('G%d.stl'%j)\n",
    "        \n",
    "        if len(point1) >= len(point2):\n",
    "            n = len(point1)//len(point2)\n",
    "            point1 = point1[::n]\n",
    "        else:\n",
    "            n = len(point2)//len(point1)\n",
    "            point2 = point2[::n]\n",
    "        \n",
    "        print('resample points1 to',len(point1))\n",
    "        print('resample points2 to',len(point2))\n",
    "\n",
    "        bin1 = shape_bins(point1)\n",
    "        bin2 = shape_bins(point2)\n",
    "\n",
    "        cost = cost_matrix(bin1,bin2)\n",
    "\n",
    "        total = soft_assign(cost)\n",
    "        \n",
    "        result2.append(total)\n",
    "\n",
    "        print('---------------------')\n",
    "    "
   ]
  },
  {
   "cell_type": "code",
   "execution_count": null,
   "metadata": {
    "collapsed": true
   },
   "outputs": [],
   "source": [
    "print(result2)\n",
    "plt.plot(result2)\n",
    "plt.ylabel('minimum distance')\n",
    "plt.ylim(0,max(result2)*1.5)\n",
    "plt.show()\n",
    "print(np.mean(result2))"
   ]
  },
  {
   "cell_type": "code",
   "execution_count": null,
   "metadata": {},
   "outputs": [],
   "source": [
    "result3 = []\n",
    "\n",
    "for i in range(1,5):  \n",
    "    for j in range(i+1,5):\n",
    "        \n",
    "        point1 = readstl('S%d.stl'%i)\n",
    "        point2 = readstl('S%d.stl'%j)\n",
    "        \n",
    "        if len(point1) >= len(point2):\n",
    "            n = len(point1)//len(point2)\n",
    "            point1 = point1[::n]\n",
    "        else:\n",
    "            n = len(point2)//len(point1)\n",
    "            point2 = point2[::n]\n",
    "        \n",
    "        print('resample points1 to',len(point1))\n",
    "        print('resample points2 to',len(point2))\n",
    "\n",
    "        bin1 = shape_bins(point1)\n",
    "        bin2 = shape_bins(point2)\n",
    "\n",
    "        cost = cost_matrix(bin1,bin2)\n",
    "\n",
    "        total = soft_assign(cost)\n",
    "        \n",
    "        result3.append(total)\n",
    "\n",
    "        print('---------------------')\n",
    "    "
   ]
  },
  {
   "cell_type": "code",
   "execution_count": null,
   "metadata": {},
   "outputs": [],
   "source": [
    "print(result3)\n",
    "plt.plot(result3)\n",
    "plt.ylabel('minimum distance')\n",
    "plt.ylim(0,max(result3)*1.5)\n",
    "plt.show()\n",
    "print(np.mean(result3))"
   ]
  },
  {
   "cell_type": "markdown",
   "metadata": {
    "collapsed": true
   },
   "source": [
    " "
   ]
  },
  {
   "cell_type": "code",
   "execution_count": null,
   "metadata": {},
   "outputs": [],
   "source": [
    "\n",
    "\n",
    "plt.figure()\n",
    "plt.plot(a,label = 'different class cost')\n",
    "plt.plot(b,label = 'Growing class cost')\n",
    "plt.plot(c,label = 'Stable class cost')\n",
    "plt.ylabel('mean cost')\n",
    "plt.legend()\n",
    "plt.show()"
   ]
  },
  {
   "cell_type": "code",
   "execution_count": null,
   "metadata": {
    "collapsed": true
   },
   "outputs": [],
   "source": []
  },
  {
   "cell_type": "code",
   "execution_count": null,
   "metadata": {
    "collapsed": true
   },
   "outputs": [],
   "source": []
  },
  {
   "cell_type": "code",
   "execution_count": null,
   "metadata": {
    "collapsed": true
   },
   "outputs": [],
   "source": []
  }
 ],
 "metadata": {
  "kernelspec": {
   "display_name": "Python 3",
   "language": "python",
   "name": "python3"
  },
  "language_info": {
   "codemirror_mode": {
    "name": "ipython",
    "version": 3
   },
   "file_extension": ".py",
   "mimetype": "text/x-python",
   "name": "python",
   "nbconvert_exporter": "python",
   "pygments_lexer": "ipython3",
   "version": "3.6.2"
  }
 },
 "nbformat": 4,
 "nbformat_minor": 2
}
